{
  "nbformat": 4,
  "nbformat_minor": 0,
  "metadata": {
    "colab": {
      "name": "Palindrome_Data_Residency_Assignment_Klari-van-Zyl.ipynb",
      "provenance": [],
      "collapsed_sections": []
    },
    "kernelspec": {
      "name": "python3",
      "display_name": "Python 3"
    },
    "language_info": {
      "name": "python"
    }
  },
  "cells": [
    {
      "cell_type": "markdown",
      "metadata": {
        "id": "9iq-UOmeD9Va"
      },
      "source": [
        "# **PALINDROME DATA**\n",
        "\n",
        "Klari van Zyl\n",
        "\n",
        "**DATA SCIENCE RESIDENCY INTERVIEW ASSIGNMENT**\n",
        "\n",
        "INSTRUCTIONS & TASKS:\n",
        "\n",
        "1) Download the dataset.\n",
        "\n",
        "2) Calculate and output the following:\n",
        "\n",
        "    a) What is the total number of people living with HIV (NoPLHIV) in the listed districts according to the Survey estimate?\n",
        "    b) What is the average NoPLHIV of the two estimates used for \"Xhariep\"?\n",
        "    c) Add a column and populate it with the number of people not living with HIV for each row.\n",
        "    d) What is the total NoPLHIV in all cities (districts with the word \"city\" or \"metro\" in the name)?\n",
        "\n",
        "3) Write the original data (without the caption - originally row 1) with the extra columns as *comma-seperated values* (CSV) to a new .csv file.\n",
        "\n"
      ]
    },
    {
      "cell_type": "markdown",
      "metadata": {
        "id": "ZhI2mlplPrls"
      },
      "source": [
        "Importing the needed libraries"
      ]
    },
    {
      "cell_type": "code",
      "metadata": {
        "id": "79BY17qpD5ln"
      },
      "source": [
        "import numpy as np\n",
        "import pandas as pd\n",
        "from matplotlib import pyplot as plt\n",
        "import seaborn as sns\n",
        "import scipy.stats as stats\n",
        "\n",
        "# To enable plotting graphs\n",
        "%matplotlib inline"
      ],
      "execution_count": 32,
      "outputs": []
    },
    {
      "cell_type": "code",
      "metadata": {
        "colab": {
          "base_uri": "https://localhost:8080/"
        },
        "id": "uU16KbZBHi44",
        "outputId": "364b1369-8928-4639-b691-73a54412d56d"
      },
      "source": [
        "# Docking google drive\n",
        "\n",
        "from google.colab import drive\n",
        "drive.mount('/content/drive/')"
      ],
      "execution_count": 33,
      "outputs": [
        {
          "output_type": "stream",
          "text": [
            "Drive already mounted at /content/drive/; to attempt to forcibly remount, call drive.mount(\"/content/drive/\", force_remount=True).\n"
          ],
          "name": "stdout"
        }
      ]
    },
    {
      "cell_type": "code",
      "metadata": {
        "id": "LL6LWmg_HrQw"
      },
      "source": [
        "# Setting up the notebook path\n",
        "\n",
        "import os\n",
        "\n",
        "os.chdir('/content/drive/My Drive/PALINDROME')\n",
        "assign_path = '.'"
      ],
      "execution_count": 35,
      "outputs": []
    },
    {
      "cell_type": "code",
      "metadata": {
        "id": "1tZ8mi8oH13u"
      },
      "source": [
        "# Reading the data as a data frame\n",
        "## Note that the .xlsx file was converted to a .csv file \n",
        "### .xlsx files can easily be converted to .csv files using Microsoft Excell\n",
        "\n",
        "# df -> dataframe\n",
        "\n",
        "df = pd.read_csv('pone.0212445.s004.csv')"
      ],
      "execution_count": 36,
      "outputs": []
    },
    {
      "cell_type": "code",
      "metadata": {
        "colab": {
          "base_uri": "https://localhost:8080/",
          "height": 669
        },
        "id": "jGAUjVI2IBXo",
        "outputId": "c3fccc35-9ec6-4697-be2a-b423751690ba"
      },
      "source": [
        "# Viewing the top 20 rows of the dataset\n",
        "\n",
        "df.head(20)"
      ],
      "execution_count": 37,
      "outputs": [
        {
          "output_type": "execute_result",
          "data": {
            "text/html": [
              "<div>\n",
              "<style scoped>\n",
              "    .dataframe tbody tr th:only-of-type {\n",
              "        vertical-align: middle;\n",
              "    }\n",
              "\n",
              "    .dataframe tbody tr th {\n",
              "        vertical-align: top;\n",
              "    }\n",
              "\n",
              "    .dataframe thead th {\n",
              "        text-align: right;\n",
              "    }\n",
              "</style>\n",
              "<table border=\"1\" class=\"dataframe\">\n",
              "  <thead>\n",
              "    <tr style=\"text-align: right;\">\n",
              "      <th></th>\n",
              "      <th>District</th>\n",
              "      <th>Code</th>\n",
              "      <th>Estimate</th>\n",
              "      <th>Prevalence_%</th>\n",
              "      <th>Prevalence_LCL</th>\n",
              "      <th>Prevalence_UCL</th>\n",
              "      <th>NoPLHIV</th>\n",
              "      <th>NoPLHIV_LCL</th>\n",
              "      <th>NoPLHIV_UCL</th>\n",
              "    </tr>\n",
              "  </thead>\n",
              "  <tbody>\n",
              "    <tr>\n",
              "      <th>0</th>\n",
              "      <td>Buffalo City</td>\n",
              "      <td>BUF</td>\n",
              "      <td>Survey</td>\n",
              "      <td>13.600000</td>\n",
              "      <td>10.268000</td>\n",
              "      <td>16.932000</td>\n",
              "      <td>102437</td>\n",
              "      <td>77340</td>\n",
              "      <td>127534</td>\n",
              "    </tr>\n",
              "    <tr>\n",
              "      <th>1</th>\n",
              "      <td>Buffalo City</td>\n",
              "      <td>BUF</td>\n",
              "      <td>Fay-Heriott</td>\n",
              "      <td>13.501283</td>\n",
              "      <td>11.031605</td>\n",
              "      <td>16.421802</td>\n",
              "      <td>101693</td>\n",
              "      <td>83092</td>\n",
              "      <td>123691</td>\n",
              "    </tr>\n",
              "    <tr>\n",
              "      <th>2</th>\n",
              "      <td>City of Cape Town</td>\n",
              "      <td>CPT</td>\n",
              "      <td>Survey</td>\n",
              "      <td>5.200000</td>\n",
              "      <td>3.044000</td>\n",
              "      <td>7.356000</td>\n",
              "      <td>200751</td>\n",
              "      <td>117517</td>\n",
              "      <td>283985</td>\n",
              "    </tr>\n",
              "    <tr>\n",
              "      <th>3</th>\n",
              "      <td>City of Cape Town</td>\n",
              "      <td>CPT</td>\n",
              "      <td>Fay-Heriott</td>\n",
              "      <td>6.020043</td>\n",
              "      <td>4.335072</td>\n",
              "      <td>8.303091</td>\n",
              "      <td>232409</td>\n",
              "      <td>167359</td>\n",
              "      <td>320548</td>\n",
              "    </tr>\n",
              "    <tr>\n",
              "      <th>4</th>\n",
              "      <td>West Coast</td>\n",
              "      <td>DC1</td>\n",
              "      <td>Survey</td>\n",
              "      <td>2.700000</td>\n",
              "      <td>0.000000</td>\n",
              "      <td>5.444000</td>\n",
              "      <td>11302</td>\n",
              "      <td>0</td>\n",
              "      <td>22789</td>\n",
              "    </tr>\n",
              "    <tr>\n",
              "      <th>5</th>\n",
              "      <td>West Coast</td>\n",
              "      <td>DC1</td>\n",
              "      <td>Fay-Heriott</td>\n",
              "      <td>4.088319</td>\n",
              "      <td>2.414351</td>\n",
              "      <td>6.841548</td>\n",
              "      <td>17114</td>\n",
              "      <td>10107</td>\n",
              "      <td>28639</td>\n",
              "    </tr>\n",
              "    <tr>\n",
              "      <th>6</th>\n",
              "      <td>Cacadu</td>\n",
              "      <td>DC10</td>\n",
              "      <td>Survey</td>\n",
              "      <td>7.600000</td>\n",
              "      <td>3.484000</td>\n",
              "      <td>11.716000</td>\n",
              "      <td>34732</td>\n",
              "      <td>15922</td>\n",
              "      <td>53542</td>\n",
              "    </tr>\n",
              "    <tr>\n",
              "      <th>7</th>\n",
              "      <td>Cacadu</td>\n",
              "      <td>DC10</td>\n",
              "      <td>Fay-Heriott</td>\n",
              "      <td>8.912387</td>\n",
              "      <td>6.145010</td>\n",
              "      <td>12.756646</td>\n",
              "      <td>40729</td>\n",
              "      <td>28083</td>\n",
              "      <td>58298</td>\n",
              "    </tr>\n",
              "    <tr>\n",
              "      <th>8</th>\n",
              "      <td>Amatole</td>\n",
              "      <td>DC12</td>\n",
              "      <td>Survey</td>\n",
              "      <td>11.000000</td>\n",
              "      <td>7.276000</td>\n",
              "      <td>14.724000</td>\n",
              "      <td>98884</td>\n",
              "      <td>65407</td>\n",
              "      <td>132361</td>\n",
              "    </tr>\n",
              "    <tr>\n",
              "      <th>9</th>\n",
              "      <td>Amatole</td>\n",
              "      <td>DC12</td>\n",
              "      <td>Fay-Heriott</td>\n",
              "      <td>11.878608</td>\n",
              "      <td>9.090702</td>\n",
              "      <td>15.376883</td>\n",
              "      <td>106783</td>\n",
              "      <td>81721</td>\n",
              "      <td>138230</td>\n",
              "    </tr>\n",
              "    <tr>\n",
              "      <th>10</th>\n",
              "      <td>Chris Hani</td>\n",
              "      <td>DC13</td>\n",
              "      <td>Survey</td>\n",
              "      <td>14.300000</td>\n",
              "      <td>10.184000</td>\n",
              "      <td>18.416000</td>\n",
              "      <td>114849</td>\n",
              "      <td>81792</td>\n",
              "      <td>147906</td>\n",
              "    </tr>\n",
              "    <tr>\n",
              "      <th>11</th>\n",
              "      <td>Chris Hani</td>\n",
              "      <td>DC13</td>\n",
              "      <td>Fay-Heriott</td>\n",
              "      <td>14.080983</td>\n",
              "      <td>11.181220</td>\n",
              "      <td>17.583893</td>\n",
              "      <td>113090</td>\n",
              "      <td>89801</td>\n",
              "      <td>141224</td>\n",
              "    </tr>\n",
              "    <tr>\n",
              "      <th>12</th>\n",
              "      <td>Joe Gqabi</td>\n",
              "      <td>DC14</td>\n",
              "      <td>Survey</td>\n",
              "      <td>10.700000</td>\n",
              "      <td>7.956000</td>\n",
              "      <td>13.444000</td>\n",
              "      <td>37766</td>\n",
              "      <td>28081</td>\n",
              "      <td>47451</td>\n",
              "    </tr>\n",
              "    <tr>\n",
              "      <th>13</th>\n",
              "      <td>Joe Gqabi</td>\n",
              "      <td>DC14</td>\n",
              "      <td>Fay-Heriott</td>\n",
              "      <td>11.507804</td>\n",
              "      <td>9.291766</td>\n",
              "      <td>14.169794</td>\n",
              "      <td>40618</td>\n",
              "      <td>32796</td>\n",
              "      <td>50013</td>\n",
              "    </tr>\n",
              "    <tr>\n",
              "      <th>14</th>\n",
              "      <td>O.R. Tambo</td>\n",
              "      <td>DC15</td>\n",
              "      <td>Survey</td>\n",
              "      <td>11.800000</td>\n",
              "      <td>8.468000</td>\n",
              "      <td>15.132000</td>\n",
              "      <td>160352</td>\n",
              "      <td>115073</td>\n",
              "      <td>205631</td>\n",
              "    </tr>\n",
              "    <tr>\n",
              "      <th>15</th>\n",
              "      <td>O.R. Tambo</td>\n",
              "      <td>DC15</td>\n",
              "      <td>Fay-Heriott</td>\n",
              "      <td>12.317316</td>\n",
              "      <td>9.771988</td>\n",
              "      <td>15.412383</td>\n",
              "      <td>167382</td>\n",
              "      <td>132793</td>\n",
              "      <td>209441</td>\n",
              "    </tr>\n",
              "    <tr>\n",
              "      <th>16</th>\n",
              "      <td>Xhariep</td>\n",
              "      <td>DC16</td>\n",
              "      <td>Survey</td>\n",
              "      <td>8.300000</td>\n",
              "      <td>6.144000</td>\n",
              "      <td>10.456000</td>\n",
              "      <td>11777</td>\n",
              "      <td>8718</td>\n",
              "      <td>14836</td>\n",
              "    </tr>\n",
              "    <tr>\n",
              "      <th>17</th>\n",
              "      <td>Xhariep</td>\n",
              "      <td>DC16</td>\n",
              "      <td>Fay-Heriott</td>\n",
              "      <td>8.963070</td>\n",
              "      <td>7.187823</td>\n",
              "      <td>11.124214</td>\n",
              "      <td>12718</td>\n",
              "      <td>10199</td>\n",
              "      <td>15784</td>\n",
              "    </tr>\n",
              "    <tr>\n",
              "      <th>18</th>\n",
              "      <td>Lejweleputswa</td>\n",
              "      <td>DC18</td>\n",
              "      <td>Survey</td>\n",
              "      <td>20.300000</td>\n",
              "      <td>13.440000</td>\n",
              "      <td>27.160000</td>\n",
              "      <td>123868</td>\n",
              "      <td>82009</td>\n",
              "      <td>165727</td>\n",
              "    </tr>\n",
              "    <tr>\n",
              "      <th>19</th>\n",
              "      <td>Lejweleputswa</td>\n",
              "      <td>DC18</td>\n",
              "      <td>Fay-Heriott</td>\n",
              "      <td>17.628286</td>\n",
              "      <td>13.677049</td>\n",
              "      <td>22.424487</td>\n",
              "      <td>107566</td>\n",
              "      <td>83456</td>\n",
              "      <td>136832</td>\n",
              "    </tr>\n",
              "  </tbody>\n",
              "</table>\n",
              "</div>"
            ],
            "text/plain": [
              "             District  Code     Estimate  ...  NoPLHIV  NoPLHIV_LCL  NoPLHIV_UCL\n",
              "0        Buffalo City   BUF       Survey  ...   102437        77340       127534\n",
              "1        Buffalo City   BUF  Fay-Heriott  ...   101693        83092       123691\n",
              "2   City of Cape Town   CPT       Survey  ...   200751       117517       283985\n",
              "3   City of Cape Town   CPT  Fay-Heriott  ...   232409       167359       320548\n",
              "4          West Coast   DC1       Survey  ...    11302            0        22789\n",
              "5          West Coast   DC1  Fay-Heriott  ...    17114        10107        28639\n",
              "6              Cacadu  DC10       Survey  ...    34732        15922        53542\n",
              "7              Cacadu  DC10  Fay-Heriott  ...    40729        28083        58298\n",
              "8             Amatole  DC12       Survey  ...    98884        65407       132361\n",
              "9             Amatole  DC12  Fay-Heriott  ...   106783        81721       138230\n",
              "10         Chris Hani  DC13       Survey  ...   114849        81792       147906\n",
              "11         Chris Hani  DC13  Fay-Heriott  ...   113090        89801       141224\n",
              "12          Joe Gqabi  DC14       Survey  ...    37766        28081        47451\n",
              "13          Joe Gqabi  DC14  Fay-Heriott  ...    40618        32796        50013\n",
              "14         O.R. Tambo  DC15       Survey  ...   160352       115073       205631\n",
              "15         O.R. Tambo  DC15  Fay-Heriott  ...   167382       132793       209441\n",
              "16            Xhariep  DC16       Survey  ...    11777         8718        14836\n",
              "17            Xhariep  DC16  Fay-Heriott  ...    12718        10199        15784\n",
              "18      Lejweleputswa  DC18       Survey  ...   123868        82009       165727\n",
              "19      Lejweleputswa  DC18  Fay-Heriott  ...   107566        83456       136832\n",
              "\n",
              "[20 rows x 9 columns]"
            ]
          },
          "metadata": {
            "tags": []
          },
          "execution_count": 37
        }
      ]
    },
    {
      "cell_type": "code",
      "metadata": {
        "colab": {
          "base_uri": "https://localhost:8080/"
        },
        "id": "bldFJZGPIDzV",
        "outputId": "751ae507-86dc-47f2-ee4a-65fd69ad716f"
      },
      "source": [
        "# Viewing the shape of the dataset \n",
        "\n",
        "df.shape"
      ],
      "execution_count": 38,
      "outputs": [
        {
          "output_type": "execute_result",
          "data": {
            "text/plain": [
              "(104, 9)"
            ]
          },
          "metadata": {
            "tags": []
          },
          "execution_count": 38
        }
      ]
    },
    {
      "cell_type": "code",
      "metadata": {
        "id": "u3lmD9ogQk18"
      },
      "source": [
        "# There are 9 columns and 104 rows in the dataset\n",
        "\n",
        "# Columns/Variables present are as follows:\n",
        "## 'District'\n",
        "## 'Code'\n",
        "## 'Estimate'\n",
        "## 'Prevalence_%'\n",
        "## 'Prevalence_LCL\n",
        "## 'Prevalence_UCL'\n",
        "## 'NoPLHIV'\n",
        "## 'NoPLHIV_LCL'\n",
        "## 'NoPLHIV_UCL'\n",
        "\n",
        "# Estimate variable is split into two sub-categories, namely: Survey of Fay-Heriott"
      ],
      "execution_count": null,
      "outputs": []
    },
    {
      "cell_type": "code",
      "metadata": {
        "colab": {
          "base_uri": "https://localhost:8080/"
        },
        "id": "SNP5_GfpIKPF",
        "outputId": "05b8d460-6e8b-4456-82e5-990ca9394b7a"
      },
      "source": [
        "# Viewing the information about the dataset\n",
        "# this gives us a good idea about the data types etc.\n",
        "\n",
        "df.info()"
      ],
      "execution_count": 40,
      "outputs": [
        {
          "output_type": "stream",
          "text": [
            "<class 'pandas.core.frame.DataFrame'>\n",
            "RangeIndex: 104 entries, 0 to 103\n",
            "Data columns (total 9 columns):\n",
            " #   Column          Non-Null Count  Dtype  \n",
            "---  ------          --------------  -----  \n",
            " 0   District        104 non-null    object \n",
            " 1   Code            104 non-null    object \n",
            " 2   Estimate        104 non-null    object \n",
            " 3   Prevalence_%    104 non-null    float64\n",
            " 4   Prevalence_LCL  104 non-null    float64\n",
            " 5   Prevalence_UCL  104 non-null    float64\n",
            " 6   NoPLHIV         104 non-null    int64  \n",
            " 7   NoPLHIV_LCL     104 non-null    int64  \n",
            " 8   NoPLHIV_UCL     104 non-null    int64  \n",
            "dtypes: float64(3), int64(3), object(3)\n",
            "memory usage: 7.4+ KB\n"
          ],
          "name": "stdout"
        }
      ]
    },
    {
      "cell_type": "code",
      "metadata": {
        "colab": {
          "base_uri": "https://localhost:8080/",
          "height": 235
        },
        "id": "DiZ_1By7IMv0",
        "outputId": "58b3b0b8-0950-4a38-f5aa-6ae987b99e77"
      },
      "source": [
        "# Checking the statistical summary \n",
        "\n",
        "df.describe().transpose()"
      ],
      "execution_count": 41,
      "outputs": [
        {
          "output_type": "execute_result",
          "data": {
            "text/html": [
              "<div>\n",
              "<style scoped>\n",
              "    .dataframe tbody tr th:only-of-type {\n",
              "        vertical-align: middle;\n",
              "    }\n",
              "\n",
              "    .dataframe tbody tr th {\n",
              "        vertical-align: top;\n",
              "    }\n",
              "\n",
              "    .dataframe thead th {\n",
              "        text-align: right;\n",
              "    }\n",
              "</style>\n",
              "<table border=\"1\" class=\"dataframe\">\n",
              "  <thead>\n",
              "    <tr style=\"text-align: right;\">\n",
              "      <th></th>\n",
              "      <th>count</th>\n",
              "      <th>mean</th>\n",
              "      <th>std</th>\n",
              "      <th>min</th>\n",
              "      <th>25%</th>\n",
              "      <th>50%</th>\n",
              "      <th>75%</th>\n",
              "      <th>max</th>\n",
              "    </tr>\n",
              "  </thead>\n",
              "  <tbody>\n",
              "    <tr>\n",
              "      <th>Prevalence_%</th>\n",
              "      <td>104.0</td>\n",
              "      <td>12.113805</td>\n",
              "      <td>4.978586</td>\n",
              "      <td>1.584032</td>\n",
              "      <td>8.869829</td>\n",
              "      <td>11.750000</td>\n",
              "      <td>15.718785</td>\n",
              "      <td>25.000000</td>\n",
              "    </tr>\n",
              "    <tr>\n",
              "      <th>Prevalence_LCL</th>\n",
              "      <td>104.0</td>\n",
              "      <td>8.507655</td>\n",
              "      <td>4.635330</td>\n",
              "      <td>0.000000</td>\n",
              "      <td>4.911882</td>\n",
              "      <td>8.165653</td>\n",
              "      <td>11.617805</td>\n",
              "      <td>18.218028</td>\n",
              "    </tr>\n",
              "    <tr>\n",
              "      <th>Prevalence_UCL</th>\n",
              "      <td>104.0</td>\n",
              "      <td>16.142182</td>\n",
              "      <td>6.055076</td>\n",
              "      <td>2.998406</td>\n",
              "      <td>12.301325</td>\n",
              "      <td>15.935119</td>\n",
              "      <td>19.378361</td>\n",
              "      <td>40.945994</td>\n",
              "    </tr>\n",
              "    <tr>\n",
              "      <th>NoPLHIV</th>\n",
              "      <td>104.0</td>\n",
              "      <td>123914.230769</td>\n",
              "      <td>115469.372356</td>\n",
              "      <td>1876.000000</td>\n",
              "      <td>46667.500000</td>\n",
              "      <td>99751.500000</td>\n",
              "      <td>146335.500000</td>\n",
              "      <td>515387.000000</td>\n",
              "    </tr>\n",
              "    <tr>\n",
              "      <th>NoPLHIV_LCL</th>\n",
              "      <td>104.0</td>\n",
              "      <td>89210.009615</td>\n",
              "      <td>89791.909524</td>\n",
              "      <td>0.000000</td>\n",
              "      <td>28057.750000</td>\n",
              "      <td>69407.500000</td>\n",
              "      <td>115101.250000</td>\n",
              "      <td>408472.000000</td>\n",
              "    </tr>\n",
              "    <tr>\n",
              "      <th>NoPLHIV_UCL</th>\n",
              "      <td>104.0</td>\n",
              "      <td>162458.317308</td>\n",
              "      <td>145761.963447</td>\n",
              "      <td>3552.000000</td>\n",
              "      <td>68507.750000</td>\n",
              "      <td>136812.000000</td>\n",
              "      <td>181302.250000</td>\n",
              "      <td>660996.000000</td>\n",
              "    </tr>\n",
              "  </tbody>\n",
              "</table>\n",
              "</div>"
            ],
            "text/plain": [
              "                count           mean  ...            75%            max\n",
              "Prevalence_%    104.0      12.113805  ...      15.718785      25.000000\n",
              "Prevalence_LCL  104.0       8.507655  ...      11.617805      18.218028\n",
              "Prevalence_UCL  104.0      16.142182  ...      19.378361      40.945994\n",
              "NoPLHIV         104.0  123914.230769  ...  146335.500000  515387.000000\n",
              "NoPLHIV_LCL     104.0   89210.009615  ...  115101.250000  408472.000000\n",
              "NoPLHIV_UCL     104.0  162458.317308  ...  181302.250000  660996.000000\n",
              "\n",
              "[6 rows x 8 columns]"
            ]
          },
          "metadata": {
            "tags": []
          },
          "execution_count": 41
        }
      ]
    },
    {
      "cell_type": "code",
      "metadata": {
        "colab": {
          "base_uri": "https://localhost:8080/"
        },
        "id": "STI_jKhJIUod",
        "outputId": "5b6d76b3-2dd8-4fd9-c8dc-9d147ed4a59c"
      },
      "source": [
        "# Checking for any missing values\n",
        "\n",
        "df.isna().sum()"
      ],
      "execution_count": 42,
      "outputs": [
        {
          "output_type": "execute_result",
          "data": {
            "text/plain": [
              "District          0\n",
              "Code              0\n",
              "Estimate          0\n",
              "Prevalence_%      0\n",
              "Prevalence_LCL    0\n",
              "Prevalence_UCL    0\n",
              "NoPLHIV           0\n",
              "NoPLHIV_LCL       0\n",
              "NoPLHIV_UCL       0\n",
              "dtype: int64"
            ]
          },
          "metadata": {
            "tags": []
          },
          "execution_count": 42
        }
      ]
    },
    {
      "cell_type": "code",
      "metadata": {
        "id": "jxE1lbJGRpe0"
      },
      "source": [
        "# There are no missing values"
      ],
      "execution_count": null,
      "outputs": []
    },
    {
      "cell_type": "markdown",
      "metadata": {
        "id": "Q-Ir8lK9R39G"
      },
      "source": [
        "1a) What is the total number of people living with HIV (NoPLHIV) in the listed districts according to the Survey estimate?"
      ]
    },
    {
      "cell_type": "code",
      "metadata": {
        "colab": {
          "base_uri": "https://localhost:8080/",
          "height": 204
        },
        "id": "EYOa09r8IZ1j",
        "outputId": "f424e9de-3f11-4923-c9bd-045bc600a3bf"
      },
      "source": [
        "# Quick look at the head of the file again\n",
        "\n",
        "df.head()"
      ],
      "execution_count": 61,
      "outputs": [
        {
          "output_type": "execute_result",
          "data": {
            "text/html": [
              "<div>\n",
              "<style scoped>\n",
              "    .dataframe tbody tr th:only-of-type {\n",
              "        vertical-align: middle;\n",
              "    }\n",
              "\n",
              "    .dataframe tbody tr th {\n",
              "        vertical-align: top;\n",
              "    }\n",
              "\n",
              "    .dataframe thead th {\n",
              "        text-align: right;\n",
              "    }\n",
              "</style>\n",
              "<table border=\"1\" class=\"dataframe\">\n",
              "  <thead>\n",
              "    <tr style=\"text-align: right;\">\n",
              "      <th></th>\n",
              "      <th>District</th>\n",
              "      <th>Code</th>\n",
              "      <th>Estimate</th>\n",
              "      <th>Prevalence_%</th>\n",
              "      <th>Prevalence_LCL</th>\n",
              "      <th>Prevalence_UCL</th>\n",
              "      <th>NoPLHIV</th>\n",
              "      <th>NoPLHIV_LCL</th>\n",
              "      <th>NoPLHIV_UCL</th>\n",
              "      <th>NoPNLHIV</th>\n",
              "    </tr>\n",
              "  </thead>\n",
              "  <tbody>\n",
              "    <tr>\n",
              "      <th>0</th>\n",
              "      <td>Buffalo City</td>\n",
              "      <td>BUF</td>\n",
              "      <td>Survey</td>\n",
              "      <td>13.600000</td>\n",
              "      <td>10.268000</td>\n",
              "      <td>16.932000</td>\n",
              "      <td>102437</td>\n",
              "      <td>77340</td>\n",
              "      <td>127534</td>\n",
              "      <td>753213</td>\n",
              "    </tr>\n",
              "    <tr>\n",
              "      <th>1</th>\n",
              "      <td>Buffalo City</td>\n",
              "      <td>BUF</td>\n",
              "      <td>Fay-Heriott</td>\n",
              "      <td>13.501283</td>\n",
              "      <td>11.031605</td>\n",
              "      <td>16.421802</td>\n",
              "      <td>101693</td>\n",
              "      <td>83092</td>\n",
              "      <td>123691</td>\n",
              "      <td>753209</td>\n",
              "    </tr>\n",
              "    <tr>\n",
              "      <th>2</th>\n",
              "      <td>City of Cape Town</td>\n",
              "      <td>CPT</td>\n",
              "      <td>Survey</td>\n",
              "      <td>5.200000</td>\n",
              "      <td>3.044000</td>\n",
              "      <td>7.356000</td>\n",
              "      <td>200751</td>\n",
              "      <td>117517</td>\n",
              "      <td>283985</td>\n",
              "      <td>3860596</td>\n",
              "    </tr>\n",
              "    <tr>\n",
              "      <th>3</th>\n",
              "      <td>City of Cape Town</td>\n",
              "      <td>CPT</td>\n",
              "      <td>Fay-Heriott</td>\n",
              "      <td>6.020043</td>\n",
              "      <td>4.335072</td>\n",
              "      <td>8.303091</td>\n",
              "      <td>232409</td>\n",
              "      <td>167359</td>\n",
              "      <td>320548</td>\n",
              "      <td>3860587</td>\n",
              "    </tr>\n",
              "    <tr>\n",
              "      <th>4</th>\n",
              "      <td>West Coast</td>\n",
              "      <td>DC1</td>\n",
              "      <td>Survey</td>\n",
              "      <td>2.700000</td>\n",
              "      <td>0.000000</td>\n",
              "      <td>5.444000</td>\n",
              "      <td>11302</td>\n",
              "      <td>0</td>\n",
              "      <td>22789</td>\n",
              "      <td>418592</td>\n",
              "    </tr>\n",
              "  </tbody>\n",
              "</table>\n",
              "</div>"
            ],
            "text/plain": [
              "            District Code     Estimate  ...  NoPLHIV_LCL  NoPLHIV_UCL  NoPNLHIV\n",
              "0       Buffalo City  BUF       Survey  ...        77340       127534    753213\n",
              "1       Buffalo City  BUF  Fay-Heriott  ...        83092       123691    753209\n",
              "2  City of Cape Town  CPT       Survey  ...       117517       283985   3860596\n",
              "3  City of Cape Town  CPT  Fay-Heriott  ...       167359       320548   3860587\n",
              "4         West Coast  DC1       Survey  ...            0        22789    418592\n",
              "\n",
              "[5 rows x 10 columns]"
            ]
          },
          "metadata": {
            "tags": []
          },
          "execution_count": 61
        }
      ]
    },
    {
      "cell_type": "code",
      "metadata": {
        "colab": {
          "base_uri": "https://localhost:8080/"
        },
        "id": "omr7CyB8IceM",
        "outputId": "bfd43c5a-1bae-495f-b3cf-632a8d2eac60"
      },
      "source": [
        "# Using the groupby() and sum function from Pandas\n",
        "## The groupby() function splits the dataframe into the necessary variables: Estimate, NoPLHIV and Survey as the condition\n",
        "\n",
        "df.groupby('Estimate')['NoPLHIV'].sum()['Survey']"
      ],
      "execution_count": 44,
      "outputs": [
        {
          "output_type": "execute_result",
          "data": {
            "text/plain": [
              "6409903"
            ]
          },
          "metadata": {
            "tags": []
          },
          "execution_count": 44
        }
      ]
    },
    {
      "cell_type": "code",
      "metadata": {
        "id": "cHeDr0QJSmXg"
      },
      "source": [
        "# The total number of people living with HIV (NoPLHIV) in the listed districts according to the Survey estimate is: 6409903"
      ],
      "execution_count": null,
      "outputs": []
    },
    {
      "cell_type": "code",
      "metadata": {
        "colab": {
          "base_uri": "https://localhost:8080/",
          "height": 111
        },
        "id": "f9ClW6ezImUa",
        "outputId": "cecee744-0a52-4f1c-f4ce-6aad0453ac70"
      },
      "source": [
        "# Selecting the two relevant rows to create a new temporary dataset.\n",
        "## The rows to be selected are the two Xhariep rows which includes the data from the Survey and Fay-Heriott\n",
        "\n",
        "# Rename the sliced dataset to df_ave as to not confure or overwrite the original df dataset that is being used for overall functions\n",
        "\n",
        "df_ave = df[16:18]\n",
        "\n",
        "# View the head of the sliced set to check if the slice worked correctly\n",
        "\n",
        "df_ave.head()"
      ],
      "execution_count": 48,
      "outputs": [
        {
          "output_type": "execute_result",
          "data": {
            "text/html": [
              "<div>\n",
              "<style scoped>\n",
              "    .dataframe tbody tr th:only-of-type {\n",
              "        vertical-align: middle;\n",
              "    }\n",
              "\n",
              "    .dataframe tbody tr th {\n",
              "        vertical-align: top;\n",
              "    }\n",
              "\n",
              "    .dataframe thead th {\n",
              "        text-align: right;\n",
              "    }\n",
              "</style>\n",
              "<table border=\"1\" class=\"dataframe\">\n",
              "  <thead>\n",
              "    <tr style=\"text-align: right;\">\n",
              "      <th></th>\n",
              "      <th>District</th>\n",
              "      <th>Code</th>\n",
              "      <th>Estimate</th>\n",
              "      <th>Prevalence_%</th>\n",
              "      <th>Prevalence_LCL</th>\n",
              "      <th>Prevalence_UCL</th>\n",
              "      <th>NoPLHIV</th>\n",
              "      <th>NoPLHIV_LCL</th>\n",
              "      <th>NoPLHIV_UCL</th>\n",
              "    </tr>\n",
              "  </thead>\n",
              "  <tbody>\n",
              "    <tr>\n",
              "      <th>16</th>\n",
              "      <td>Xhariep</td>\n",
              "      <td>DC16</td>\n",
              "      <td>Survey</td>\n",
              "      <td>8.30000</td>\n",
              "      <td>6.144000</td>\n",
              "      <td>10.456000</td>\n",
              "      <td>11777</td>\n",
              "      <td>8718</td>\n",
              "      <td>14836</td>\n",
              "    </tr>\n",
              "    <tr>\n",
              "      <th>17</th>\n",
              "      <td>Xhariep</td>\n",
              "      <td>DC16</td>\n",
              "      <td>Fay-Heriott</td>\n",
              "      <td>8.96307</td>\n",
              "      <td>7.187823</td>\n",
              "      <td>11.124214</td>\n",
              "      <td>12718</td>\n",
              "      <td>10199</td>\n",
              "      <td>15784</td>\n",
              "    </tr>\n",
              "  </tbody>\n",
              "</table>\n",
              "</div>"
            ],
            "text/plain": [
              "   District  Code     Estimate  ...  NoPLHIV  NoPLHIV_LCL  NoPLHIV_UCL\n",
              "16  Xhariep  DC16       Survey  ...    11777         8718        14836\n",
              "17  Xhariep  DC16  Fay-Heriott  ...    12718        10199        15784\n",
              "\n",
              "[2 rows x 9 columns]"
            ]
          },
          "metadata": {
            "tags": []
          },
          "execution_count": 48
        }
      ]
    },
    {
      "cell_type": "code",
      "metadata": {
        "colab": {
          "base_uri": "https://localhost:8080/"
        },
        "id": "pnwQdJ9BIyxa",
        "outputId": "823bb138-617c-4d55-99a0-8f8c570f080a"
      },
      "source": [
        "# Using the Pandas mean function to calculate the average\n",
        "\n",
        "df_mean = df_ave[\"NoPLHIV\"].mean()\n",
        "\n",
        "# Print the mean\n",
        "\n",
        "print(df_mean)"
      ],
      "execution_count": 49,
      "outputs": [
        {
          "output_type": "stream",
          "text": [
            "12247.5\n"
          ],
          "name": "stdout"
        }
      ]
    },
    {
      "cell_type": "code",
      "metadata": {
        "id": "q9RjmXefT1Zq"
      },
      "source": [
        "# The average of the two estimates used for Xhariep is: 12247.5"
      ],
      "execution_count": null,
      "outputs": []
    },
    {
      "cell_type": "markdown",
      "metadata": {
        "id": "cFbcrBqrT9kF"
      },
      "source": [
        "2c) Add a column and populate it with the number of people not living with HIV for each row."
      ]
    },
    {
      "cell_type": "code",
      "metadata": {
        "id": "dOhpbl-DUG8s"
      },
      "source": [
        "# Inverse percentage calculation necessary\n",
        "# Prevalence_% of y(?) = x\n",
        "\n",
        "# NoPNLHIV = (NoPLHIV * 100) / (Prevalence_%)\n",
        "\n",
        "# eg.\n",
        "## NoPNLHIV = (11777 * 100) / (8.3)\n",
        "## NoPNLHIV =  1177700 / 8.3\n",
        "## NoPNLHIV =  141891.566"
      ],
      "execution_count": null,
      "outputs": []
    },
    {
      "cell_type": "code",
      "metadata": {
        "colab": {
          "base_uri": "https://localhost:8080/"
        },
        "id": "1sqmeMl1I2Dq",
        "outputId": "886d8a96-6ec2-48c7-9506-9a61bf966ddc"
      },
      "source": [
        "# Adding a column to the df dataset using Pandas\n",
        "# Simultaneously incorporating the chosen formula for the number of people not living with HIV\n",
        "# NoPNLHIV -> People Not Living with HIV\n",
        "\n",
        "df['NoPNLHIV'] = df[\"NoPLHIV\"]*100 / df[\"Prevalence_%\"]\n",
        "\n",
        "# Print the df dataset to check if the formula worked correctly\n",
        "\n",
        "print(df)"
      ],
      "execution_count": 50,
      "outputs": [
        {
          "output_type": "stream",
          "text": [
            "                     District Code  ... NoPLHIV_UCL      NoPNLHIV\n",
            "0                Buffalo City  BUF  ...      127534  7.532132e+05\n",
            "1                Buffalo City  BUF  ...      123691  7.532099e+05\n",
            "2           City of Cape Town  CPT  ...      283985  3.860596e+06\n",
            "3           City of Cape Town  CPT  ...      320548  3.860587e+06\n",
            "4                  West Coast  DC1  ...       22789  4.185926e+05\n",
            "..                        ...  ...  ...         ...           ...\n",
            "99                   Mangaung  MAN  ...      136792  1.109821e+06\n",
            "100  Nelson Mandela Bay Metro  NMA  ...      154995  1.174205e+06\n",
            "101  Nelson Mandela Bay Metro  NMA  ...      154757  1.174202e+06\n",
            "102           City of Tshwane  TSH  ...      494661  3.089316e+06\n",
            "103           City of Tshwane  TSH  ...      450265  3.089319e+06\n",
            "\n",
            "[104 rows x 10 columns]\n"
          ],
          "name": "stdout"
        }
      ]
    },
    {
      "cell_type": "code",
      "metadata": {
        "colab": {
          "base_uri": "https://localhost:8080/"
        },
        "id": "kb3KsFR8JkVv",
        "outputId": "8fd1dc48-57bd-42d9-e51b-9baa3fe1ff47"
      },
      "source": [
        "# I would like to display the NoPNLHIV column without the E notation and in the preferred numerical format\n",
        "# Converting the NoPNLHIV column to a int will remove the messy numbers \n",
        "\n",
        "df[\"NoPNLHIV\"] = df[\"NoPNLHIV\"].apply(np.int64)\n",
        "print(df)"
      ],
      "execution_count": 51,
      "outputs": [
        {
          "output_type": "stream",
          "text": [
            "                     District Code  ... NoPLHIV_UCL  NoPNLHIV\n",
            "0                Buffalo City  BUF  ...      127534    753213\n",
            "1                Buffalo City  BUF  ...      123691    753209\n",
            "2           City of Cape Town  CPT  ...      283985   3860596\n",
            "3           City of Cape Town  CPT  ...      320548   3860587\n",
            "4                  West Coast  DC1  ...       22789    418592\n",
            "..                        ...  ...  ...         ...       ...\n",
            "99                   Mangaung  MAN  ...      136792   1109820\n",
            "100  Nelson Mandela Bay Metro  NMA  ...      154995   1174204\n",
            "101  Nelson Mandela Bay Metro  NMA  ...      154757   1174202\n",
            "102           City of Tshwane  TSH  ...      494661   3089316\n",
            "103           City of Tshwane  TSH  ...      450265   3089318\n",
            "\n",
            "[104 rows x 10 columns]\n"
          ],
          "name": "stdout"
        }
      ]
    },
    {
      "cell_type": "markdown",
      "metadata": {
        "id": "Uhry9OsQXHfB"
      },
      "source": [
        "2d) What is the total NoPLHIV in all cities (districts with the word \"city\" or \"metro\" in the name)?"
      ]
    },
    {
      "cell_type": "code",
      "metadata": {
        "colab": {
          "base_uri": "https://localhost:8080/",
          "height": 359
        },
        "id": "OdBkA-hRJ12N",
        "outputId": "f3fe3d1a-1595-4976-e5b2-bcfc554f325f"
      },
      "source": [
        "# Use Pandas filter string contain function\n",
        "# This function selects the rows that contain the specific text contents\n",
        "\n",
        "df[df['District'].str.contains(\"City|Metro\")]"
      ],
      "execution_count": 52,
      "outputs": [
        {
          "output_type": "execute_result",
          "data": {
            "text/html": [
              "<div>\n",
              "<style scoped>\n",
              "    .dataframe tbody tr th:only-of-type {\n",
              "        vertical-align: middle;\n",
              "    }\n",
              "\n",
              "    .dataframe tbody tr th {\n",
              "        vertical-align: top;\n",
              "    }\n",
              "\n",
              "    .dataframe thead th {\n",
              "        text-align: right;\n",
              "    }\n",
              "</style>\n",
              "<table border=\"1\" class=\"dataframe\">\n",
              "  <thead>\n",
              "    <tr style=\"text-align: right;\">\n",
              "      <th></th>\n",
              "      <th>District</th>\n",
              "      <th>Code</th>\n",
              "      <th>Estimate</th>\n",
              "      <th>Prevalence_%</th>\n",
              "      <th>Prevalence_LCL</th>\n",
              "      <th>Prevalence_UCL</th>\n",
              "      <th>NoPLHIV</th>\n",
              "      <th>NoPLHIV_LCL</th>\n",
              "      <th>NoPLHIV_UCL</th>\n",
              "      <th>NoPNLHIV</th>\n",
              "    </tr>\n",
              "  </thead>\n",
              "  <tbody>\n",
              "    <tr>\n",
              "      <th>0</th>\n",
              "      <td>Buffalo City</td>\n",
              "      <td>BUF</td>\n",
              "      <td>Survey</td>\n",
              "      <td>13.600000</td>\n",
              "      <td>10.268000</td>\n",
              "      <td>16.932000</td>\n",
              "      <td>102437</td>\n",
              "      <td>77340</td>\n",
              "      <td>127534</td>\n",
              "      <td>753213</td>\n",
              "    </tr>\n",
              "    <tr>\n",
              "      <th>1</th>\n",
              "      <td>Buffalo City</td>\n",
              "      <td>BUF</td>\n",
              "      <td>Fay-Heriott</td>\n",
              "      <td>13.501283</td>\n",
              "      <td>11.031605</td>\n",
              "      <td>16.421802</td>\n",
              "      <td>101693</td>\n",
              "      <td>83092</td>\n",
              "      <td>123691</td>\n",
              "      <td>753209</td>\n",
              "    </tr>\n",
              "    <tr>\n",
              "      <th>2</th>\n",
              "      <td>City of Cape Town</td>\n",
              "      <td>CPT</td>\n",
              "      <td>Survey</td>\n",
              "      <td>5.200000</td>\n",
              "      <td>3.044000</td>\n",
              "      <td>7.356000</td>\n",
              "      <td>200751</td>\n",
              "      <td>117517</td>\n",
              "      <td>283985</td>\n",
              "      <td>3860596</td>\n",
              "    </tr>\n",
              "    <tr>\n",
              "      <th>3</th>\n",
              "      <td>City of Cape Town</td>\n",
              "      <td>CPT</td>\n",
              "      <td>Fay-Heriott</td>\n",
              "      <td>6.020043</td>\n",
              "      <td>4.335072</td>\n",
              "      <td>8.303091</td>\n",
              "      <td>232409</td>\n",
              "      <td>167359</td>\n",
              "      <td>320548</td>\n",
              "      <td>3860587</td>\n",
              "    </tr>\n",
              "    <tr>\n",
              "      <th>96</th>\n",
              "      <td>City of Johannesburg</td>\n",
              "      <td>JHB</td>\n",
              "      <td>Survey</td>\n",
              "      <td>11.100000</td>\n",
              "      <td>7.964000</td>\n",
              "      <td>14.236000</td>\n",
              "      <td>515387</td>\n",
              "      <td>369778</td>\n",
              "      <td>660996</td>\n",
              "      <td>4643126</td>\n",
              "    </tr>\n",
              "    <tr>\n",
              "      <th>97</th>\n",
              "      <td>City of Johannesburg</td>\n",
              "      <td>JHB</td>\n",
              "      <td>Fay-Heriott</td>\n",
              "      <td>11.075306</td>\n",
              "      <td>8.760104</td>\n",
              "      <td>13.909111</td>\n",
              "      <td>514241</td>\n",
              "      <td>406743</td>\n",
              "      <td>645818</td>\n",
              "      <td>4643131</td>\n",
              "    </tr>\n",
              "    <tr>\n",
              "      <th>100</th>\n",
              "      <td>Nelson Mandela Bay Metro</td>\n",
              "      <td>NMA</td>\n",
              "      <td>Survey</td>\n",
              "      <td>8.300000</td>\n",
              "      <td>3.400000</td>\n",
              "      <td>13.200000</td>\n",
              "      <td>97459</td>\n",
              "      <td>39923</td>\n",
              "      <td>154995</td>\n",
              "      <td>1174204</td>\n",
              "    </tr>\n",
              "    <tr>\n",
              "      <th>101</th>\n",
              "      <td>Nelson Mandela Bay Metro</td>\n",
              "      <td>NMA</td>\n",
              "      <td>Fay-Heriott</td>\n",
              "      <td>9.054060</td>\n",
              "      <td>6.128703</td>\n",
              "      <td>13.179704</td>\n",
              "      <td>106313</td>\n",
              "      <td>71964</td>\n",
              "      <td>154757</td>\n",
              "      <td>1174202</td>\n",
              "    </tr>\n",
              "    <tr>\n",
              "      <th>102</th>\n",
              "      <td>City of Tshwane</td>\n",
              "      <td>TSH</td>\n",
              "      <td>Survey</td>\n",
              "      <td>11.700000</td>\n",
              "      <td>7.388000</td>\n",
              "      <td>16.012000</td>\n",
              "      <td>361450</td>\n",
              "      <td>228239</td>\n",
              "      <td>494661</td>\n",
              "      <td>3089316</td>\n",
              "    </tr>\n",
              "    <tr>\n",
              "      <th>103</th>\n",
              "      <td>City of Tshwane</td>\n",
              "      <td>TSH</td>\n",
              "      <td>Fay-Heriott</td>\n",
              "      <td>11.024858</td>\n",
              "      <td>8.255934</td>\n",
              "      <td>14.574909</td>\n",
              "      <td>340593</td>\n",
              "      <td>255052</td>\n",
              "      <td>450265</td>\n",
              "      <td>3089318</td>\n",
              "    </tr>\n",
              "  </tbody>\n",
              "</table>\n",
              "</div>"
            ],
            "text/plain": [
              "                     District Code  ... NoPLHIV_UCL  NoPNLHIV\n",
              "0                Buffalo City  BUF  ...      127534    753213\n",
              "1                Buffalo City  BUF  ...      123691    753209\n",
              "2           City of Cape Town  CPT  ...      283985   3860596\n",
              "3           City of Cape Town  CPT  ...      320548   3860587\n",
              "96       City of Johannesburg  JHB  ...      660996   4643126\n",
              "97       City of Johannesburg  JHB  ...      645818   4643131\n",
              "100  Nelson Mandela Bay Metro  NMA  ...      154995   1174204\n",
              "101  Nelson Mandela Bay Metro  NMA  ...      154757   1174202\n",
              "102           City of Tshwane  TSH  ...      494661   3089316\n",
              "103           City of Tshwane  TSH  ...      450265   3089318\n",
              "\n",
              "[10 rows x 10 columns]"
            ]
          },
          "metadata": {
            "tags": []
          },
          "execution_count": 52
        }
      ]
    },
    {
      "cell_type": "code",
      "metadata": {
        "id": "ey6rpwfFXq0_"
      },
      "source": [
        "# There are 10 rows in total that contain data for districts with the word \"city\" or \"metro\""
      ],
      "execution_count": null,
      "outputs": []
    },
    {
      "cell_type": "code",
      "metadata": {
        "colab": {
          "base_uri": "https://localhost:8080/",
          "height": 359
        },
        "id": "cf9T5uJkKMS0",
        "outputId": "35a2fe9d-71e7-4711-b983-2d5f87bd6a1c"
      },
      "source": [
        "# Creating a new dataset that only contains the rows with the districts that contain the word \"city\" or \"metro\"\n",
        "# Creating this smaller dataset will make it easier to calculate the NoPLHIV in all cities\n",
        "\n",
        "df_cities = df[df['District'].str.contains(\"City|Metro\")]\n",
        "\n",
        "# View the new dataset, df_cities, head to ensure the code executed correctly\n",
        "\n",
        "df_cities.head(10)"
      ],
      "execution_count": 53,
      "outputs": [
        {
          "output_type": "execute_result",
          "data": {
            "text/html": [
              "<div>\n",
              "<style scoped>\n",
              "    .dataframe tbody tr th:only-of-type {\n",
              "        vertical-align: middle;\n",
              "    }\n",
              "\n",
              "    .dataframe tbody tr th {\n",
              "        vertical-align: top;\n",
              "    }\n",
              "\n",
              "    .dataframe thead th {\n",
              "        text-align: right;\n",
              "    }\n",
              "</style>\n",
              "<table border=\"1\" class=\"dataframe\">\n",
              "  <thead>\n",
              "    <tr style=\"text-align: right;\">\n",
              "      <th></th>\n",
              "      <th>District</th>\n",
              "      <th>Code</th>\n",
              "      <th>Estimate</th>\n",
              "      <th>Prevalence_%</th>\n",
              "      <th>Prevalence_LCL</th>\n",
              "      <th>Prevalence_UCL</th>\n",
              "      <th>NoPLHIV</th>\n",
              "      <th>NoPLHIV_LCL</th>\n",
              "      <th>NoPLHIV_UCL</th>\n",
              "      <th>NoPNLHIV</th>\n",
              "    </tr>\n",
              "  </thead>\n",
              "  <tbody>\n",
              "    <tr>\n",
              "      <th>0</th>\n",
              "      <td>Buffalo City</td>\n",
              "      <td>BUF</td>\n",
              "      <td>Survey</td>\n",
              "      <td>13.600000</td>\n",
              "      <td>10.268000</td>\n",
              "      <td>16.932000</td>\n",
              "      <td>102437</td>\n",
              "      <td>77340</td>\n",
              "      <td>127534</td>\n",
              "      <td>753213</td>\n",
              "    </tr>\n",
              "    <tr>\n",
              "      <th>1</th>\n",
              "      <td>Buffalo City</td>\n",
              "      <td>BUF</td>\n",
              "      <td>Fay-Heriott</td>\n",
              "      <td>13.501283</td>\n",
              "      <td>11.031605</td>\n",
              "      <td>16.421802</td>\n",
              "      <td>101693</td>\n",
              "      <td>83092</td>\n",
              "      <td>123691</td>\n",
              "      <td>753209</td>\n",
              "    </tr>\n",
              "    <tr>\n",
              "      <th>2</th>\n",
              "      <td>City of Cape Town</td>\n",
              "      <td>CPT</td>\n",
              "      <td>Survey</td>\n",
              "      <td>5.200000</td>\n",
              "      <td>3.044000</td>\n",
              "      <td>7.356000</td>\n",
              "      <td>200751</td>\n",
              "      <td>117517</td>\n",
              "      <td>283985</td>\n",
              "      <td>3860596</td>\n",
              "    </tr>\n",
              "    <tr>\n",
              "      <th>3</th>\n",
              "      <td>City of Cape Town</td>\n",
              "      <td>CPT</td>\n",
              "      <td>Fay-Heriott</td>\n",
              "      <td>6.020043</td>\n",
              "      <td>4.335072</td>\n",
              "      <td>8.303091</td>\n",
              "      <td>232409</td>\n",
              "      <td>167359</td>\n",
              "      <td>320548</td>\n",
              "      <td>3860587</td>\n",
              "    </tr>\n",
              "    <tr>\n",
              "      <th>96</th>\n",
              "      <td>City of Johannesburg</td>\n",
              "      <td>JHB</td>\n",
              "      <td>Survey</td>\n",
              "      <td>11.100000</td>\n",
              "      <td>7.964000</td>\n",
              "      <td>14.236000</td>\n",
              "      <td>515387</td>\n",
              "      <td>369778</td>\n",
              "      <td>660996</td>\n",
              "      <td>4643126</td>\n",
              "    </tr>\n",
              "    <tr>\n",
              "      <th>97</th>\n",
              "      <td>City of Johannesburg</td>\n",
              "      <td>JHB</td>\n",
              "      <td>Fay-Heriott</td>\n",
              "      <td>11.075306</td>\n",
              "      <td>8.760104</td>\n",
              "      <td>13.909111</td>\n",
              "      <td>514241</td>\n",
              "      <td>406743</td>\n",
              "      <td>645818</td>\n",
              "      <td>4643131</td>\n",
              "    </tr>\n",
              "    <tr>\n",
              "      <th>100</th>\n",
              "      <td>Nelson Mandela Bay Metro</td>\n",
              "      <td>NMA</td>\n",
              "      <td>Survey</td>\n",
              "      <td>8.300000</td>\n",
              "      <td>3.400000</td>\n",
              "      <td>13.200000</td>\n",
              "      <td>97459</td>\n",
              "      <td>39923</td>\n",
              "      <td>154995</td>\n",
              "      <td>1174204</td>\n",
              "    </tr>\n",
              "    <tr>\n",
              "      <th>101</th>\n",
              "      <td>Nelson Mandela Bay Metro</td>\n",
              "      <td>NMA</td>\n",
              "      <td>Fay-Heriott</td>\n",
              "      <td>9.054060</td>\n",
              "      <td>6.128703</td>\n",
              "      <td>13.179704</td>\n",
              "      <td>106313</td>\n",
              "      <td>71964</td>\n",
              "      <td>154757</td>\n",
              "      <td>1174202</td>\n",
              "    </tr>\n",
              "    <tr>\n",
              "      <th>102</th>\n",
              "      <td>City of Tshwane</td>\n",
              "      <td>TSH</td>\n",
              "      <td>Survey</td>\n",
              "      <td>11.700000</td>\n",
              "      <td>7.388000</td>\n",
              "      <td>16.012000</td>\n",
              "      <td>361450</td>\n",
              "      <td>228239</td>\n",
              "      <td>494661</td>\n",
              "      <td>3089316</td>\n",
              "    </tr>\n",
              "    <tr>\n",
              "      <th>103</th>\n",
              "      <td>City of Tshwane</td>\n",
              "      <td>TSH</td>\n",
              "      <td>Fay-Heriott</td>\n",
              "      <td>11.024858</td>\n",
              "      <td>8.255934</td>\n",
              "      <td>14.574909</td>\n",
              "      <td>340593</td>\n",
              "      <td>255052</td>\n",
              "      <td>450265</td>\n",
              "      <td>3089318</td>\n",
              "    </tr>\n",
              "  </tbody>\n",
              "</table>\n",
              "</div>"
            ],
            "text/plain": [
              "                     District Code  ... NoPLHIV_UCL  NoPNLHIV\n",
              "0                Buffalo City  BUF  ...      127534    753213\n",
              "1                Buffalo City  BUF  ...      123691    753209\n",
              "2           City of Cape Town  CPT  ...      283985   3860596\n",
              "3           City of Cape Town  CPT  ...      320548   3860587\n",
              "96       City of Johannesburg  JHB  ...      660996   4643126\n",
              "97       City of Johannesburg  JHB  ...      645818   4643131\n",
              "100  Nelson Mandela Bay Metro  NMA  ...      154995   1174204\n",
              "101  Nelson Mandela Bay Metro  NMA  ...      154757   1174202\n",
              "102           City of Tshwane  TSH  ...      494661   3089316\n",
              "103           City of Tshwane  TSH  ...      450265   3089318\n",
              "\n",
              "[10 rows x 10 columns]"
            ]
          },
          "metadata": {
            "tags": []
          },
          "execution_count": 53
        }
      ]
    },
    {
      "cell_type": "code",
      "metadata": {
        "colab": {
          "base_uri": "https://localhost:8080/"
        },
        "id": "W-Mi3KedKfPS",
        "outputId": "a9258249-9342-4634-aa6a-66fd04fb1737"
      },
      "source": [
        "# Use the groupby() and sum function from Pandas\n",
        "\n",
        "df_cities.groupby('Estimate')['NoPLHIV'].sum()"
      ],
      "execution_count": 54,
      "outputs": [
        {
          "output_type": "execute_result",
          "data": {
            "text/plain": [
              "Estimate\n",
              "Fay-Heriott    1295249\n",
              "Survey         1277484\n",
              "Name: NoPLHIV, dtype: int64"
            ]
          },
          "metadata": {
            "tags": []
          },
          "execution_count": 54
        }
      ]
    },
    {
      "cell_type": "markdown",
      "metadata": {
        "id": "rZ0SHyYibJlB"
      },
      "source": [
        "3) Write the original data (without the caption - originally row 1) with the extra columns as *comma-seperated values* (CSV) to a new .csv file."
      ]
    },
    {
      "cell_type": "code",
      "metadata": {
        "id": "LEmlXbXTKoxS"
      },
      "source": [
        "# Use Pandas to write the file to .csv\n",
        "\n",
        "df.to_csv('Palindrome_HIV_Data_Assign_KlarivZyl.csv')"
      ],
      "execution_count": 58,
      "outputs": []
    },
    {
      "cell_type": "code",
      "metadata": {
        "id": "EWFgYNpOLGqo"
      },
      "source": [
        "# Use Pandas to read the newly saved file\n",
        "\n",
        "HIV_data = pd.read_csv('Palindrome_HIV_Data_Assign_KlarivZyl.csv')"
      ],
      "execution_count": 59,
      "outputs": []
    },
    {
      "cell_type": "code",
      "metadata": {
        "colab": {
          "base_uri": "https://localhost:8080/",
          "height": 669
        },
        "id": "Qd_MN1duLVBu",
        "outputId": "5db4eb6d-2f36-44c7-9fc1-1e9ff9b48a81"
      },
      "source": [
        "# And view the head of the file to ensure that the .csv file was written correctly\n",
        "\n",
        "HIV_data.head(20)"
      ],
      "execution_count": 60,
      "outputs": [
        {
          "output_type": "execute_result",
          "data": {
            "text/html": [
              "<div>\n",
              "<style scoped>\n",
              "    .dataframe tbody tr th:only-of-type {\n",
              "        vertical-align: middle;\n",
              "    }\n",
              "\n",
              "    .dataframe tbody tr th {\n",
              "        vertical-align: top;\n",
              "    }\n",
              "\n",
              "    .dataframe thead th {\n",
              "        text-align: right;\n",
              "    }\n",
              "</style>\n",
              "<table border=\"1\" class=\"dataframe\">\n",
              "  <thead>\n",
              "    <tr style=\"text-align: right;\">\n",
              "      <th></th>\n",
              "      <th>Unnamed: 0</th>\n",
              "      <th>District</th>\n",
              "      <th>Code</th>\n",
              "      <th>Estimate</th>\n",
              "      <th>Prevalence_%</th>\n",
              "      <th>Prevalence_LCL</th>\n",
              "      <th>Prevalence_UCL</th>\n",
              "      <th>NoPLHIV</th>\n",
              "      <th>NoPLHIV_LCL</th>\n",
              "      <th>NoPLHIV_UCL</th>\n",
              "      <th>NoPNLHIV</th>\n",
              "    </tr>\n",
              "  </thead>\n",
              "  <tbody>\n",
              "    <tr>\n",
              "      <th>0</th>\n",
              "      <td>0</td>\n",
              "      <td>Buffalo City</td>\n",
              "      <td>BUF</td>\n",
              "      <td>Survey</td>\n",
              "      <td>13.600000</td>\n",
              "      <td>10.268000</td>\n",
              "      <td>16.932000</td>\n",
              "      <td>102437</td>\n",
              "      <td>77340</td>\n",
              "      <td>127534</td>\n",
              "      <td>753213</td>\n",
              "    </tr>\n",
              "    <tr>\n",
              "      <th>1</th>\n",
              "      <td>1</td>\n",
              "      <td>Buffalo City</td>\n",
              "      <td>BUF</td>\n",
              "      <td>Fay-Heriott</td>\n",
              "      <td>13.501283</td>\n",
              "      <td>11.031605</td>\n",
              "      <td>16.421802</td>\n",
              "      <td>101693</td>\n",
              "      <td>83092</td>\n",
              "      <td>123691</td>\n",
              "      <td>753209</td>\n",
              "    </tr>\n",
              "    <tr>\n",
              "      <th>2</th>\n",
              "      <td>2</td>\n",
              "      <td>City of Cape Town</td>\n",
              "      <td>CPT</td>\n",
              "      <td>Survey</td>\n",
              "      <td>5.200000</td>\n",
              "      <td>3.044000</td>\n",
              "      <td>7.356000</td>\n",
              "      <td>200751</td>\n",
              "      <td>117517</td>\n",
              "      <td>283985</td>\n",
              "      <td>3860596</td>\n",
              "    </tr>\n",
              "    <tr>\n",
              "      <th>3</th>\n",
              "      <td>3</td>\n",
              "      <td>City of Cape Town</td>\n",
              "      <td>CPT</td>\n",
              "      <td>Fay-Heriott</td>\n",
              "      <td>6.020043</td>\n",
              "      <td>4.335072</td>\n",
              "      <td>8.303091</td>\n",
              "      <td>232409</td>\n",
              "      <td>167359</td>\n",
              "      <td>320548</td>\n",
              "      <td>3860587</td>\n",
              "    </tr>\n",
              "    <tr>\n",
              "      <th>4</th>\n",
              "      <td>4</td>\n",
              "      <td>West Coast</td>\n",
              "      <td>DC1</td>\n",
              "      <td>Survey</td>\n",
              "      <td>2.700000</td>\n",
              "      <td>0.000000</td>\n",
              "      <td>5.444000</td>\n",
              "      <td>11302</td>\n",
              "      <td>0</td>\n",
              "      <td>22789</td>\n",
              "      <td>418592</td>\n",
              "    </tr>\n",
              "    <tr>\n",
              "      <th>5</th>\n",
              "      <td>5</td>\n",
              "      <td>West Coast</td>\n",
              "      <td>DC1</td>\n",
              "      <td>Fay-Heriott</td>\n",
              "      <td>4.088319</td>\n",
              "      <td>2.414351</td>\n",
              "      <td>6.841548</td>\n",
              "      <td>17114</td>\n",
              "      <td>10107</td>\n",
              "      <td>28639</td>\n",
              "      <td>418607</td>\n",
              "    </tr>\n",
              "    <tr>\n",
              "      <th>6</th>\n",
              "      <td>6</td>\n",
              "      <td>Cacadu</td>\n",
              "      <td>DC10</td>\n",
              "      <td>Survey</td>\n",
              "      <td>7.600000</td>\n",
              "      <td>3.484000</td>\n",
              "      <td>11.716000</td>\n",
              "      <td>34732</td>\n",
              "      <td>15922</td>\n",
              "      <td>53542</td>\n",
              "      <td>457000</td>\n",
              "    </tr>\n",
              "    <tr>\n",
              "      <th>7</th>\n",
              "      <td>7</td>\n",
              "      <td>Cacadu</td>\n",
              "      <td>DC10</td>\n",
              "      <td>Fay-Heriott</td>\n",
              "      <td>8.912387</td>\n",
              "      <td>6.145010</td>\n",
              "      <td>12.756646</td>\n",
              "      <td>40729</td>\n",
              "      <td>28083</td>\n",
              "      <td>58298</td>\n",
              "      <td>456993</td>\n",
              "    </tr>\n",
              "    <tr>\n",
              "      <th>8</th>\n",
              "      <td>8</td>\n",
              "      <td>Amatole</td>\n",
              "      <td>DC12</td>\n",
              "      <td>Survey</td>\n",
              "      <td>11.000000</td>\n",
              "      <td>7.276000</td>\n",
              "      <td>14.724000</td>\n",
              "      <td>98884</td>\n",
              "      <td>65407</td>\n",
              "      <td>132361</td>\n",
              "      <td>898945</td>\n",
              "    </tr>\n",
              "    <tr>\n",
              "      <th>9</th>\n",
              "      <td>9</td>\n",
              "      <td>Amatole</td>\n",
              "      <td>DC12</td>\n",
              "      <td>Fay-Heriott</td>\n",
              "      <td>11.878608</td>\n",
              "      <td>9.090702</td>\n",
              "      <td>15.376883</td>\n",
              "      <td>106783</td>\n",
              "      <td>81721</td>\n",
              "      <td>138230</td>\n",
              "      <td>898952</td>\n",
              "    </tr>\n",
              "    <tr>\n",
              "      <th>10</th>\n",
              "      <td>10</td>\n",
              "      <td>Chris Hani</td>\n",
              "      <td>DC13</td>\n",
              "      <td>Survey</td>\n",
              "      <td>14.300000</td>\n",
              "      <td>10.184000</td>\n",
              "      <td>18.416000</td>\n",
              "      <td>114849</td>\n",
              "      <td>81792</td>\n",
              "      <td>147906</td>\n",
              "      <td>803139</td>\n",
              "    </tr>\n",
              "    <tr>\n",
              "      <th>11</th>\n",
              "      <td>11</td>\n",
              "      <td>Chris Hani</td>\n",
              "      <td>DC13</td>\n",
              "      <td>Fay-Heriott</td>\n",
              "      <td>14.080983</td>\n",
              "      <td>11.181220</td>\n",
              "      <td>17.583893</td>\n",
              "      <td>113090</td>\n",
              "      <td>89801</td>\n",
              "      <td>141224</td>\n",
              "      <td>803139</td>\n",
              "    </tr>\n",
              "    <tr>\n",
              "      <th>12</th>\n",
              "      <td>12</td>\n",
              "      <td>Joe Gqabi</td>\n",
              "      <td>DC14</td>\n",
              "      <td>Survey</td>\n",
              "      <td>10.700000</td>\n",
              "      <td>7.956000</td>\n",
              "      <td>13.444000</td>\n",
              "      <td>37766</td>\n",
              "      <td>28081</td>\n",
              "      <td>47451</td>\n",
              "      <td>352953</td>\n",
              "    </tr>\n",
              "    <tr>\n",
              "      <th>13</th>\n",
              "      <td>13</td>\n",
              "      <td>Joe Gqabi</td>\n",
              "      <td>DC14</td>\n",
              "      <td>Fay-Heriott</td>\n",
              "      <td>11.507804</td>\n",
              "      <td>9.291766</td>\n",
              "      <td>14.169794</td>\n",
              "      <td>40618</td>\n",
              "      <td>32796</td>\n",
              "      <td>50013</td>\n",
              "      <td>352960</td>\n",
              "    </tr>\n",
              "    <tr>\n",
              "      <th>14</th>\n",
              "      <td>14</td>\n",
              "      <td>O.R. Tambo</td>\n",
              "      <td>DC15</td>\n",
              "      <td>Survey</td>\n",
              "      <td>11.800000</td>\n",
              "      <td>8.468000</td>\n",
              "      <td>15.132000</td>\n",
              "      <td>160352</td>\n",
              "      <td>115073</td>\n",
              "      <td>205631</td>\n",
              "      <td>1358915</td>\n",
              "    </tr>\n",
              "    <tr>\n",
              "      <th>15</th>\n",
              "      <td>15</td>\n",
              "      <td>O.R. Tambo</td>\n",
              "      <td>DC15</td>\n",
              "      <td>Fay-Heriott</td>\n",
              "      <td>12.317316</td>\n",
              "      <td>9.771988</td>\n",
              "      <td>15.412383</td>\n",
              "      <td>167382</td>\n",
              "      <td>132793</td>\n",
              "      <td>209441</td>\n",
              "      <td>1358916</td>\n",
              "    </tr>\n",
              "    <tr>\n",
              "      <th>16</th>\n",
              "      <td>16</td>\n",
              "      <td>Xhariep</td>\n",
              "      <td>DC16</td>\n",
              "      <td>Survey</td>\n",
              "      <td>8.300000</td>\n",
              "      <td>6.144000</td>\n",
              "      <td>10.456000</td>\n",
              "      <td>11777</td>\n",
              "      <td>8718</td>\n",
              "      <td>14836</td>\n",
              "      <td>141891</td>\n",
              "    </tr>\n",
              "    <tr>\n",
              "      <th>17</th>\n",
              "      <td>17</td>\n",
              "      <td>Xhariep</td>\n",
              "      <td>DC16</td>\n",
              "      <td>Fay-Heriott</td>\n",
              "      <td>8.963070</td>\n",
              "      <td>7.187823</td>\n",
              "      <td>11.124214</td>\n",
              "      <td>12718</td>\n",
              "      <td>10199</td>\n",
              "      <td>15784</td>\n",
              "      <td>141893</td>\n",
              "    </tr>\n",
              "    <tr>\n",
              "      <th>18</th>\n",
              "      <td>18</td>\n",
              "      <td>Lejweleputswa</td>\n",
              "      <td>DC18</td>\n",
              "      <td>Survey</td>\n",
              "      <td>20.300000</td>\n",
              "      <td>13.440000</td>\n",
              "      <td>27.160000</td>\n",
              "      <td>123868</td>\n",
              "      <td>82009</td>\n",
              "      <td>165727</td>\n",
              "      <td>610187</td>\n",
              "    </tr>\n",
              "    <tr>\n",
              "      <th>19</th>\n",
              "      <td>19</td>\n",
              "      <td>Lejweleputswa</td>\n",
              "      <td>DC18</td>\n",
              "      <td>Fay-Heriott</td>\n",
              "      <td>17.628286</td>\n",
              "      <td>13.677049</td>\n",
              "      <td>22.424487</td>\n",
              "      <td>107566</td>\n",
              "      <td>83456</td>\n",
              "      <td>136832</td>\n",
              "      <td>610189</td>\n",
              "    </tr>\n",
              "  </tbody>\n",
              "</table>\n",
              "</div>"
            ],
            "text/plain": [
              "    Unnamed: 0           District  Code  ... NoPLHIV_LCL  NoPLHIV_UCL  NoPNLHIV\n",
              "0            0       Buffalo City   BUF  ...       77340       127534    753213\n",
              "1            1       Buffalo City   BUF  ...       83092       123691    753209\n",
              "2            2  City of Cape Town   CPT  ...      117517       283985   3860596\n",
              "3            3  City of Cape Town   CPT  ...      167359       320548   3860587\n",
              "4            4         West Coast   DC1  ...           0        22789    418592\n",
              "5            5         West Coast   DC1  ...       10107        28639    418607\n",
              "6            6             Cacadu  DC10  ...       15922        53542    457000\n",
              "7            7             Cacadu  DC10  ...       28083        58298    456993\n",
              "8            8            Amatole  DC12  ...       65407       132361    898945\n",
              "9            9            Amatole  DC12  ...       81721       138230    898952\n",
              "10          10         Chris Hani  DC13  ...       81792       147906    803139\n",
              "11          11         Chris Hani  DC13  ...       89801       141224    803139\n",
              "12          12          Joe Gqabi  DC14  ...       28081        47451    352953\n",
              "13          13          Joe Gqabi  DC14  ...       32796        50013    352960\n",
              "14          14         O.R. Tambo  DC15  ...      115073       205631   1358915\n",
              "15          15         O.R. Tambo  DC15  ...      132793       209441   1358916\n",
              "16          16            Xhariep  DC16  ...        8718        14836    141891\n",
              "17          17            Xhariep  DC16  ...       10199        15784    141893\n",
              "18          18      Lejweleputswa  DC18  ...       82009       165727    610187\n",
              "19          19      Lejweleputswa  DC18  ...       83456       136832    610189\n",
              "\n",
              "[20 rows x 11 columns]"
            ]
          },
          "metadata": {
            "tags": []
          },
          "execution_count": 60
        }
      ]
    },
    {
      "cell_type": "markdown",
      "metadata": {
        "id": "3BO4_CNpb0Kh"
      },
      "source": [
        "**END OF ASSIGMENT QUESTIONS**"
      ]
    },
    {
      "cell_type": "markdown",
      "metadata": {
        "id": "0C1wuJ8mcWmC"
      },
      "source": [
        "EXTRAS -  Quick Visual Look at the Data\n"
      ]
    },
    {
      "cell_type": "code",
      "metadata": {
        "colab": {
          "base_uri": "https://localhost:8080/",
          "height": 359
        },
        "id": "H9D1zZdWLey9",
        "outputId": "dfee869f-0deb-45aa-df39-3a38f1aec87a"
      },
      "source": [
        "# Read first 10 rows at the ehad of the file\n",
        "\n",
        "HIV_data.head(10)"
      ],
      "execution_count": 63,
      "outputs": [
        {
          "output_type": "execute_result",
          "data": {
            "text/html": [
              "<div>\n",
              "<style scoped>\n",
              "    .dataframe tbody tr th:only-of-type {\n",
              "        vertical-align: middle;\n",
              "    }\n",
              "\n",
              "    .dataframe tbody tr th {\n",
              "        vertical-align: top;\n",
              "    }\n",
              "\n",
              "    .dataframe thead th {\n",
              "        text-align: right;\n",
              "    }\n",
              "</style>\n",
              "<table border=\"1\" class=\"dataframe\">\n",
              "  <thead>\n",
              "    <tr style=\"text-align: right;\">\n",
              "      <th></th>\n",
              "      <th>Unnamed: 0</th>\n",
              "      <th>District</th>\n",
              "      <th>Code</th>\n",
              "      <th>Estimate</th>\n",
              "      <th>Prevalence_%</th>\n",
              "      <th>Prevalence_LCL</th>\n",
              "      <th>Prevalence_UCL</th>\n",
              "      <th>NoPLHIV</th>\n",
              "      <th>NoPLHIV_LCL</th>\n",
              "      <th>NoPLHIV_UCL</th>\n",
              "      <th>NoPNLHIV</th>\n",
              "    </tr>\n",
              "  </thead>\n",
              "  <tbody>\n",
              "    <tr>\n",
              "      <th>0</th>\n",
              "      <td>0</td>\n",
              "      <td>Buffalo City</td>\n",
              "      <td>BUF</td>\n",
              "      <td>Survey</td>\n",
              "      <td>13.600000</td>\n",
              "      <td>10.268000</td>\n",
              "      <td>16.932000</td>\n",
              "      <td>102437</td>\n",
              "      <td>77340</td>\n",
              "      <td>127534</td>\n",
              "      <td>753213</td>\n",
              "    </tr>\n",
              "    <tr>\n",
              "      <th>1</th>\n",
              "      <td>1</td>\n",
              "      <td>Buffalo City</td>\n",
              "      <td>BUF</td>\n",
              "      <td>Fay-Heriott</td>\n",
              "      <td>13.501283</td>\n",
              "      <td>11.031605</td>\n",
              "      <td>16.421802</td>\n",
              "      <td>101693</td>\n",
              "      <td>83092</td>\n",
              "      <td>123691</td>\n",
              "      <td>753209</td>\n",
              "    </tr>\n",
              "    <tr>\n",
              "      <th>2</th>\n",
              "      <td>2</td>\n",
              "      <td>City of Cape Town</td>\n",
              "      <td>CPT</td>\n",
              "      <td>Survey</td>\n",
              "      <td>5.200000</td>\n",
              "      <td>3.044000</td>\n",
              "      <td>7.356000</td>\n",
              "      <td>200751</td>\n",
              "      <td>117517</td>\n",
              "      <td>283985</td>\n",
              "      <td>3860596</td>\n",
              "    </tr>\n",
              "    <tr>\n",
              "      <th>3</th>\n",
              "      <td>3</td>\n",
              "      <td>City of Cape Town</td>\n",
              "      <td>CPT</td>\n",
              "      <td>Fay-Heriott</td>\n",
              "      <td>6.020043</td>\n",
              "      <td>4.335072</td>\n",
              "      <td>8.303091</td>\n",
              "      <td>232409</td>\n",
              "      <td>167359</td>\n",
              "      <td>320548</td>\n",
              "      <td>3860587</td>\n",
              "    </tr>\n",
              "    <tr>\n",
              "      <th>4</th>\n",
              "      <td>4</td>\n",
              "      <td>West Coast</td>\n",
              "      <td>DC1</td>\n",
              "      <td>Survey</td>\n",
              "      <td>2.700000</td>\n",
              "      <td>0.000000</td>\n",
              "      <td>5.444000</td>\n",
              "      <td>11302</td>\n",
              "      <td>0</td>\n",
              "      <td>22789</td>\n",
              "      <td>418592</td>\n",
              "    </tr>\n",
              "    <tr>\n",
              "      <th>5</th>\n",
              "      <td>5</td>\n",
              "      <td>West Coast</td>\n",
              "      <td>DC1</td>\n",
              "      <td>Fay-Heriott</td>\n",
              "      <td>4.088319</td>\n",
              "      <td>2.414351</td>\n",
              "      <td>6.841548</td>\n",
              "      <td>17114</td>\n",
              "      <td>10107</td>\n",
              "      <td>28639</td>\n",
              "      <td>418607</td>\n",
              "    </tr>\n",
              "    <tr>\n",
              "      <th>6</th>\n",
              "      <td>6</td>\n",
              "      <td>Cacadu</td>\n",
              "      <td>DC10</td>\n",
              "      <td>Survey</td>\n",
              "      <td>7.600000</td>\n",
              "      <td>3.484000</td>\n",
              "      <td>11.716000</td>\n",
              "      <td>34732</td>\n",
              "      <td>15922</td>\n",
              "      <td>53542</td>\n",
              "      <td>457000</td>\n",
              "    </tr>\n",
              "    <tr>\n",
              "      <th>7</th>\n",
              "      <td>7</td>\n",
              "      <td>Cacadu</td>\n",
              "      <td>DC10</td>\n",
              "      <td>Fay-Heriott</td>\n",
              "      <td>8.912387</td>\n",
              "      <td>6.145010</td>\n",
              "      <td>12.756646</td>\n",
              "      <td>40729</td>\n",
              "      <td>28083</td>\n",
              "      <td>58298</td>\n",
              "      <td>456993</td>\n",
              "    </tr>\n",
              "    <tr>\n",
              "      <th>8</th>\n",
              "      <td>8</td>\n",
              "      <td>Amatole</td>\n",
              "      <td>DC12</td>\n",
              "      <td>Survey</td>\n",
              "      <td>11.000000</td>\n",
              "      <td>7.276000</td>\n",
              "      <td>14.724000</td>\n",
              "      <td>98884</td>\n",
              "      <td>65407</td>\n",
              "      <td>132361</td>\n",
              "      <td>898945</td>\n",
              "    </tr>\n",
              "    <tr>\n",
              "      <th>9</th>\n",
              "      <td>9</td>\n",
              "      <td>Amatole</td>\n",
              "      <td>DC12</td>\n",
              "      <td>Fay-Heriott</td>\n",
              "      <td>11.878608</td>\n",
              "      <td>9.090702</td>\n",
              "      <td>15.376883</td>\n",
              "      <td>106783</td>\n",
              "      <td>81721</td>\n",
              "      <td>138230</td>\n",
              "      <td>898952</td>\n",
              "    </tr>\n",
              "  </tbody>\n",
              "</table>\n",
              "</div>"
            ],
            "text/plain": [
              "   Unnamed: 0           District  Code  ... NoPLHIV_LCL  NoPLHIV_UCL  NoPNLHIV\n",
              "0           0       Buffalo City   BUF  ...       77340       127534    753213\n",
              "1           1       Buffalo City   BUF  ...       83092       123691    753209\n",
              "2           2  City of Cape Town   CPT  ...      117517       283985   3860596\n",
              "3           3  City of Cape Town   CPT  ...      167359       320548   3860587\n",
              "4           4         West Coast   DC1  ...           0        22789    418592\n",
              "5           5         West Coast   DC1  ...       10107        28639    418607\n",
              "6           6             Cacadu  DC10  ...       15922        53542    457000\n",
              "7           7             Cacadu  DC10  ...       28083        58298    456993\n",
              "8           8            Amatole  DC12  ...       65407       132361    898945\n",
              "9           9            Amatole  DC12  ...       81721       138230    898952\n",
              "\n",
              "[10 rows x 11 columns]"
            ]
          },
          "metadata": {
            "tags": []
          },
          "execution_count": 63
        }
      ]
    },
    {
      "cell_type": "code",
      "metadata": {
        "colab": {
          "base_uri": "https://localhost:8080/",
          "height": 1000
        },
        "id": "5q_SYTmNdNK2",
        "outputId": "790ea986-a6cf-4f55-b3a2-edcd37b8469c"
      },
      "source": [
        "sns.set_theme(style=\"whitegrid\")\n",
        "\n",
        "\n",
        "g = sns.catplot(\n",
        "    data=HIV_data, kind=\"bar\",\n",
        "    x=\"District\", y=\"NoPLHIV\", hue=\"Estimate\",\n",
        "    ci=\"sd\", palette=\"dark\", alpha=.60, height=60\n",
        ")\n",
        "g.despine(left=True)\n",
        "g.set_axis_labels(\"\", \"NoPLHIV\")\n",
        "g.legend.set_title(\"\")"
      ],
      "execution_count": 84,
      "outputs": [
        {
          "output_type": "display_data",
          "data": {
            "image/png": "[encoded data removed]",
            "text/plain": [
              "<Figure size 4420.48x4320 with 1 Axes>"
            ]
          },
          "metadata": {
            "tags": []
          }
        }
      ]
    },
    {
      "cell_type": "code",
      "metadata": {
        "id": "inBr7rcndrik"
      },
      "source": [
        "# From the catplot above we can see that the differences between the Survey and Fay-Heriott isn't too large\n",
        "# Upon zooming into the graph, it is clear that the City of Johannesburg has the largest amount of people living with HIV\n",
        "# Namakwa seems to have the lowest count of people living with HIV"
      ],
      "execution_count": null,
      "outputs": []
    },
    {
      "cell_type": "code",
      "metadata": {
        "colab": {
          "base_uri": "https://localhost:8080/",
          "height": 725
        },
        "id": "ovibVEXLmj0s",
        "outputId": "877662c3-b138-4c0c-c782-f0d463e23150"
      },
      "source": [
        "sns.set_theme(style=\"whitegrid\")\n",
        "\n",
        "\n",
        "g = sns.catplot(\n",
        "    data=df_cities, kind=\"bar\",\n",
        "    x=\"District\", y=\"NoPLHIV\", hue=\"Estimate\",\n",
        "    ci=\"sd\", palette=\"dark\", alpha=.10, height=10\n",
        ")\n",
        "g.despine(left=True)\n",
        "g.set_axis_labels(\"\", \"NoPLHIV\")\n",
        "g.legend.set_title(\"\")"
      ],
      "execution_count": 96,
      "outputs": [
        {
          "output_type": "display_data",
          "data": {
            "image/png": "[encoded data removed]",
            "text/plain": [
              "<Figure size 820.475x720 with 1 Axes>"
            ]
          },
          "metadata": {
            "tags": []
          }
        }
      ]
    },
    {
      "cell_type": "code",
      "metadata": {
        "id": "weyKLSYEmw8A"
      },
      "source": [
        "# Above we now have a clear visual of the count of people living with HIV in the City and Metro districts.\n",
        "# Once again the Survey data is not too far off from the Fay-Heriott data, except for the City of Cape Town and the City of Tshwane"
      ],
      "execution_count": 87,
      "outputs": []
    },
    {
      "cell_type": "code",
      "metadata": {
        "colab": {
          "base_uri": "https://localhost:8080/",
          "height": 725
        },
        "id": "4nSNB5cbn267",
        "outputId": "b385ddaf-7229-4d45-aac9-a9874d7ed369"
      },
      "source": [
        "sns.set_theme(style=\"whitegrid\")\n",
        "\n",
        "\n",
        "g = sns.catplot(\n",
        "    data=df_cities, kind=\"bar\",\n",
        "    x=\"District\", y=\"Prevalence_%\", hue=\"Estimate\",\n",
        "    ci=\"sd\", palette=\"dark\", alpha=.10, height=10\n",
        ")\n",
        "g.despine(left=True)\n",
        "g.set_axis_labels(\"\", \"Prevalence\")\n",
        "g.legend.set_title(\"\")"
      ],
      "execution_count": 97,
      "outputs": [
        {
          "output_type": "display_data",
          "data": {
            "image/png": "[encoded data removed]",
            "text/plain": [
              "<Figure size 820.475x720 with 1 Axes>"
            ]
          },
          "metadata": {
            "tags": []
          }
        }
      ]
    },
    {
      "cell_type": "code",
      "metadata": {
        "id": "DwDnC1DEp_Sh"
      },
      "source": [
        "# This is now where the data becomes interesting and where once has to look at the bigger picture.\n",
        "# Even though the City of Johannesburg trumps the other city and metro areas int the number of people living with age,\n",
        "## when looking at the actual percentages of prevalence per city/metro, it seems that the prevalence of people living with HIV\n",
        "### is the highest in Buffalo City. Yet in numbers, it was th lowest."
      ],
      "execution_count": null,
      "outputs": []
    },
    {
      "cell_type": "code",
      "metadata": {
        "id": "jVy4Hmk_s9Xn"
      },
      "source": [
        "#END"
      ],
      "execution_count": 102,
      "outputs": []
    },
    {
      "cell_type": "code",
      "metadata": {
        "id": "Jg31m-Cmt1rS"
      },
      "source": [
        ""
      ],
      "execution_count": null,
      "outputs": []
    }
  ]
}